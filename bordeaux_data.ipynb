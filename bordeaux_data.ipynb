{
 "cells": [
  {
   "cell_type": "code",
   "execution_count": 1,
   "id": "b4fe27b6",
   "metadata": {},
   "outputs": [],
   "source": [
    "import pandas as pd\n",
    "import os\n",
    "\n",
    "# Fonction de détection du séparateur\n",
    "def detect_separator(filepath):\n",
    "    with open(filepath, \"r\", encoding=\"utf-8\", errors=\"ignore\") as f:\n",
    "        line = f.readline()\n",
    "        if \";\" in line: return \";\"\n",
    "        elif \",\" in line: return \",\"\n",
    "        else: return \"\\t\"\n",
    "\n",
    "base_path = \"donnee_accident/Donnee_\"\n",
    "annees = [2005, 2008, 2011, 2014, 2017, 2020, 2023]\n"
   ]
  },
  {
   "cell_type": "code",
   "execution_count": 2,
   "id": "132e11c7",
   "metadata": {},
   "outputs": [
    {
     "name": "stdout",
     "output_type": "stream",
     "text": [
      "📊 2005 : 2165 lignes liées à Bordeaux\n",
      "     dep    com                       adr\n",
      "466  330  498.0                       NaN\n",
      "467  330  056.0                       NaN\n",
      "468  330  312.0        RUE DURAND DASSIER\n",
      "469  330  162.0     21 av de l hippodrome\n",
      "470  330  162.0  avenue de Saint Mï¿½dard\n",
      "📊 2008 : 2109 lignes liées à Bordeaux\n",
      "   dep    com                      adr\n",
      "0  330  00424         RUE SAINT JULIEN\n",
      "1  330  00348                      NaN\n",
      "2  330  00350  RD 231 Rue de l'hôpital\n",
      "3  330  00394                      NaN\n",
      "4  330  00394               La Moleone\n",
      "📊 2011 : 1777 lignes liées à Bordeaux\n",
      "      dep    com                       adr\n",
      "3986  330  00498          2 route du Lanot\n",
      "3987  330  00029                       NaN\n",
      "3989  330  00436                       NaN\n",
      "3990  330  00284   04 rue maréchal LECLERC\n",
      "3991  330  00051  108 AVE DE LA LIBERATION\n",
      "📊 2014 : 1633 lignes liées à Bordeaux\n",
      "      dep    com                  adr\n",
      "2402  330  00519                  NaN\n",
      "2403  330  00042                  NaN\n",
      "2404  330  00498    ROUTE DU CAPLANNE\n",
      "2405  330  00498                  NaN\n",
      "2406  330  00555  31 rue Croix d'Hins\n"
     ]
    },
    {
     "name": "stderr",
     "output_type": "stream",
     "text": [
      "C:\\Users\\lukas\\AppData\\Local\\Temp\\ipykernel_23528\\750868602.py:14: DtypeWarning: Columns (2) have mixed types. Specify dtype option on import or set low_memory=False.\n",
      "  lieux = pd.read_csv(chemin_lieux, sep=sep_lieux, encoding=\"utf-8\", on_bad_lines=\"skip\")\n"
     ]
    },
    {
     "name": "stdout",
     "output_type": "stream",
     "text": [
      "📊 2017 : 1185 lignes liées à Bordeaux\n",
      "      dep    com                   adr\n",
      "798   140  00187    CHEMIN DE BORDEAUX\n",
      "1162  330  00029  avenue du sauternais\n",
      "1163  330  00498   RD 108 - PR 040+400\n",
      "1164  330  00498      RD3 / Ch.Jacques\n",
      "1165  330  00436         Route du Barp\n",
      "📊 2020 : 260 lignes liées à Bordeaux\n",
      "      dep    com                                          adr\n",
      "192   033  33063     CRS DU MEDOC / CRS BALGUERIE STUTTENBERG\n",
      "497   033  33063                           ALL DE LOS ANGELES\n",
      "1083  033  33063                      Rue de la Motte Picquet\n",
      "1379  033  33063  RUE DES GENERAUX D/UCHE / RUE PIERRE TREBOD\n",
      "1787  033  33063            CRS VICTOR HUGO / RUE SAINT-JAMES\n",
      "📊 2023 : 357 lignes liées à Bordeaux\n",
      "      dep    com                                    adr\n",
      "75    033  33019                38bis Route de Bordeaux\n",
      "463   033  33205  A62 PK 021.100 sens BORDEAUX-TOULOUSE\n",
      "1175  033  33063                             Rue Tastet\n",
      "1428  033  33063                       Avenue de Verdun\n",
      "1563  033  33063             Boulevard des FrÃ¨res Moga\n"
     ]
    },
    {
     "name": "stderr",
     "output_type": "stream",
     "text": [
      "C:\\Users\\lukas\\AppData\\Local\\Temp\\ipykernel_23528\\750868602.py:14: DtypeWarning: Columns (12) have mixed types. Specify dtype option on import or set low_memory=False.\n",
      "  lieux = pd.read_csv(chemin_lieux, sep=sep_lieux, encoding=\"utf-8\", on_bad_lines=\"skip\")\n"
     ]
    }
   ],
   "source": [
    "for an in annees:\n",
    "    chemin_carac = f\"{base_path}{an}/caracteristiques-{an}.csv\"\n",
    "    chemin_lieux = f\"{base_path}{an}/lieux-{an}.csv\"\n",
    "\n",
    "    if not os.path.exists(chemin_carac) or not os.path.exists(chemin_lieux):\n",
    "        print(f\"⛔ Fichiers manquants pour {an}\")\n",
    "        continue\n",
    "\n",
    "    try:\n",
    "        sep_carac = detect_separator(chemin_carac)\n",
    "        sep_lieux = detect_separator(chemin_lieux)\n",
    "\n",
    "        carac = pd.read_csv(chemin_carac, sep=sep_carac, encoding=\"latin1\", on_bad_lines=\"skip\", low_memory=False)\n",
    "        lieux = pd.read_csv(chemin_lieux, sep=sep_lieux, encoding=\"utf-8\", on_bad_lines=\"skip\")\n",
    "\n",
    "        carac.columns = [c.strip().replace('\"', '') for c in carac.columns]\n",
    "        lieux.columns = [c.strip().replace('\"', '') for c in lieux.columns]\n",
    "\n",
    "        df = pd.merge(carac, lieux, on=\"Num_Acc\", how=\"left\")\n",
    "\n",
    "        df[\"dep\"] = df[\"dep\"].astype(str).str.zfill(3)\n",
    "        df[\"com\"] = df[\"com\"].astype(str).str.zfill(5)\n",
    "\n",
    "        # 🧪 Filtres multiples pour détecter Bordeaux\n",
    "        filtre_com = df[\"com\"] == \"33063\"\n",
    "        filtre_dep = df[\"dep\"] == \"330\"\n",
    "        filtre_adr = df[\"adr\"].astype(str).str.contains(\"bordeaux\", case=False, na=False)\n",
    "\n",
    "        total_match = df[filtre_com | filtre_dep | filtre_adr]\n",
    "        print(f\"📊 {an} : {len(total_match)} lignes liées à Bordeaux\")\n",
    "\n",
    "        if len(total_match) > 0:\n",
    "            print(total_match[[\"dep\", \"com\", \"adr\"]].drop_duplicates().head(5))\n",
    "        \n",
    "    except Exception as e:\n",
    "        print(f\"❌ Erreur {an} : {e}\")\n"
   ]
  }
 ],
 "metadata": {
  "kernelspec": {
   "display_name": "Python 3",
   "language": "python",
   "name": "python3"
  },
  "language_info": {
   "codemirror_mode": {
    "name": "ipython",
    "version": 3
   },
   "file_extension": ".py",
   "mimetype": "text/x-python",
   "name": "python",
   "nbconvert_exporter": "python",
   "pygments_lexer": "ipython3",
   "version": "3.13.5"
  }
 },
 "nbformat": 4,
 "nbformat_minor": 5
}
