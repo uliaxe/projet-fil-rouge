{
 "cells": [
  {
   "cell_type": "code",
   "execution_count": 16,
   "id": "e5aba7b1",
   "metadata": {},
   "outputs": [],
   "source": [
    "# Cellule 1 : Import + paramètres globaux\n",
    "\n",
    "import os\n",
    "import pandas as pd\n",
    "import folium\n",
    "from IPython.display import display\n",
    "\n",
    "base_path = \"donnee_accident/Donnee_\"\n",
    "annees = [2005, 2008, 2011, 2014, 2017, 2020, 2023]\n",
    "\n",
    "# Bordeaux : dep = 330, com = 33063 (code commune)\n",
    "dep_bordeaux = \"330\"\n",
    "com_bordeaux = \"33063\"\n",
    "\n",
    "# Couleurs par année pour la carte\n",
    "colors = {\n",
    "    2005: \"blue\",\n",
    "    2008: \"green\",\n",
    "    2011: \"purple\",\n",
    "    2014: \"orange\",\n",
    "    2017: \"darkred\",\n",
    "    2020: \"cadetblue\",\n",
    "    2023: \"darkgreen\"\n",
    "}"
   ]
  },
  {
   "cell_type": "code",
   "execution_count": 17,
   "id": "3802e3f4",
   "metadata": {},
   "outputs": [
    {
     "name": "stdout",
     "output_type": "stream",
     "text": [
      "\n",
      "📂 Année 2005 | Colonnes carac : ['Num_Acc,an,mois,jour,hrmn,lum,agg,int,atm,col,com,adr,gps,lat,long,dep']\n",
      "📂 Année 2005 | Colonnes lieux : ['Num_Acc,catr,voie,v1,v2,circ,nbv,pr,pr1,vosp,prof,plan,lartpc,larrout,surf,infra,situ,env1']\n",
      "❌ Erreur pour 2005 : 'Num_Acc'\n",
      "\n",
      "📂 Année 2008 | Colonnes carac : ['Num_Acc,an,mois,jour,hrmn,lum,agg,int,atm,col,com,adr,gps,lat,long,dep']\n",
      "📂 Année 2008 | Colonnes lieux : ['Num_Acc,catr,voie,v1,v2,circ,nbv,pr,pr1,vosp,prof,plan,lartpc,larrout,surf,infra,situ,env1']\n",
      "❌ Erreur pour 2008 : 'Num_Acc'\n",
      "\n",
      "📂 Année 2011 | Colonnes carac : ['Num_Acc,an,mois,jour,hrmn,lum,agg,int,atm,col,com,adr,gps,lat,long,dep']\n",
      "📂 Année 2011 | Colonnes lieux : ['Num_Acc,catr,voie,v1,v2,circ,nbv,pr,pr1,vosp,prof,plan,lartpc,larrout,surf,infra,situ,env1']\n",
      "❌ Erreur pour 2011 : 'Num_Acc'\n",
      "\n",
      "📂 Année 2014 | Colonnes carac : ['Num_Acc,an,mois,jour,hrmn,lum,agg,int,atm,col,com,adr,gps,lat,long,dep']\n",
      "📂 Année 2014 | Colonnes lieux : ['Num_Acc,catr,voie,v1,v2,circ,nbv,pr,pr1,vosp,prof,plan,lartpc,larrout,surf,infra,situ,env1']\n",
      "❌ Erreur pour 2014 : 'Num_Acc'\n",
      "\n",
      "📂 Année 2017 | Colonnes carac : ['Num_Acc,an,mois,jour,hrmn,lum,agg,int,atm,col,com,adr,gps,lat,long,dep']\n",
      "📂 Année 2017 | Colonnes lieux : ['Num_Acc,catr,voie,v1,v2,circ,nbv,pr,pr1,vosp,prof,plan,lartpc,larrout,surf,infra,situ,env1']\n",
      "❌ Erreur pour 2017 : 'Num_Acc'\n",
      "\n",
      "📂 Année 2020 | Colonnes carac : ['Num_Acc', 'jour', 'mois', 'an', 'hrmn', 'lum', 'dep', 'com', 'agg', 'int', 'atm', 'col', 'adr', 'lat', 'long']\n",
      "📂 Année 2020 | Colonnes lieux : ['Num_Acc', 'catr', 'voie', 'v1', 'v2', 'circ', 'nbv', 'vosp', 'prof', 'pr', 'pr1', 'plan', 'lartpc', 'larrout', 'surf', 'infra', 'situ', 'vma']\n",
      "✔️ 2020 : 239 accidents à Bordeaux\n",
      "\n",
      "📂 Année 2023 | Colonnes carac : ['Num_Acc', 'jour', 'mois', 'an', 'hrmn', 'lum', 'dep', 'com', 'agg', 'int', 'atm', 'col', 'adr', 'lat', 'long']\n",
      "📂 Année 2023 | Colonnes lieux : ['Num_Acc', 'catr', 'voie', 'v1', 'v2', 'circ', 'nbv', 'vosp', 'prof', 'pr', 'pr1', 'plan', 'lartpc', 'larrout', 'surf', 'infra', 'situ', 'vma']\n",
      "✔️ 2023 : 304 accidents à Bordeaux\n",
      "\n",
      "Total accidents Bordeaux (toutes années) : 543\n"
     ]
    },
    {
     "name": "stderr",
     "output_type": "stream",
     "text": [
      "C:\\Users\\lukas\\AppData\\Local\\Temp\\ipykernel_12804\\4054816478.py:15: DtypeWarning: Columns (12) have mixed types. Specify dtype option on import or set low_memory=False.\n",
      "  lieux = pd.read_csv(chemin_lieux, sep=\";\", encoding=\"utf-8\", on_bad_lines=\"skip\")\n"
     ]
    }
   ],
   "source": [
    "# Cellule 2 : Chargement et fusion des données Bordeaux\n",
    "\n",
    "dfs_bordeaux = []\n",
    "\n",
    "for an in annees:\n",
    "    chemin_carac = f\"{base_path}{an}/caracteristiques-{an}.csv\"\n",
    "    chemin_lieux = f\"{base_path}{an}/lieux-{an}.csv\"\n",
    "    \n",
    "    if not (os.path.exists(chemin_carac) and os.path.exists(chemin_lieux)):\n",
    "        print(f\"⛔ Fichiers manquants pour {an}\")\n",
    "        continue\n",
    "\n",
    "    try:\n",
    "        carac = pd.read_csv(chemin_carac, sep=\";\", encoding=\"latin1\", on_bad_lines=\"skip\", low_memory=False)\n",
    "        lieux = pd.read_csv(chemin_lieux, sep=\";\", encoding=\"utf-8\", on_bad_lines=\"skip\")\n",
    "\n",
    "        # Nettoyage noms colonnes\n",
    "        carac.columns = carac.columns.str.strip().str.replace('\"', '')\n",
    "        lieux.columns = lieux.columns.str.strip().str.replace('\"', '')\n",
    "\n",
    "        # Debug\n",
    "        print(f\"\\n📂 Année {an} | Colonnes carac : {list(carac.columns)}\")\n",
    "        print(f\"📂 Année {an} | Colonnes lieux : {list(lieux.columns)}\")\n",
    "\n",
    "        # Fusion\n",
    "        df = pd.merge(carac, lieux, on=\"Num_Acc\", how=\"left\")\n",
    "\n",
    "        # Normalisation codes\n",
    "        df[\"dep\"] = df[\"dep\"].astype(str).str.zfill(3)\n",
    "        df[\"com\"] = df[\"com\"].astype(str).str.zfill(5)\n",
    "\n",
    "        # Filtrer Bordeaux\n",
    "        filtre = (df[\"dep\"] == dep_bordeaux) | (df[\"com\"] == com_bordeaux)\n",
    "        df_bdx = df[filtre].copy()\n",
    "        df_bdx[\"annee\"] = an\n",
    "\n",
    "        dfs_bordeaux.append(df_bdx)\n",
    "        print(f\"✔️ {an} : {len(df_bdx)} accidents à Bordeaux\")\n",
    "\n",
    "    except Exception as e:\n",
    "        print(f\"❌ Erreur pour {an} : {e}\")\n",
    "\n",
    "if dfs_bordeaux:\n",
    "    df_bordeaux = pd.concat(dfs_bordeaux, ignore_index=True)\n",
    "    print(f\"\\nTotal accidents Bordeaux (toutes années) : {len(df_bordeaux)}\")\n",
    "else:\n",
    "    print(\"\\nAucune donnée Bordeaux chargée\")\n"
   ]
  },
  {
   "cell_type": "code",
   "execution_count": 18,
   "id": "9f5c2437",
   "metadata": {},
   "outputs": [
    {
     "name": "stdout",
     "output_type": "stream",
     "text": [
      "Après nettoyage, 543 accidents avec coordonnées valides.\n"
     ]
    }
   ],
   "source": [
    "# Cellule 3 : Nettoyage des coordonnées\n",
    "\n",
    "def convert_coord(val):\n",
    "    \"\"\"Convertit coordonnées GPS du format entier (ex 4415750) en float (ex 44.15750)\"\"\"\n",
    "    try:\n",
    "        val_str = str(val).replace(\",\", \".\").strip()\n",
    "        if \".\" in val_str:\n",
    "            return float(val_str)\n",
    "        else:\n",
    "            # Cas coordonnées sans virgule, conversion manuelle\n",
    "            val_str = val_str.zfill(7)  # ajouter des 0 si besoin\n",
    "            if len(val_str) == 7:\n",
    "                return float(val_str[:2] + \".\" + val_str[2:])\n",
    "            elif len(val_str) == 6:\n",
    "                return float(val_str[:1] + \".\" + val_str[1:])\n",
    "            else:\n",
    "                return float(val_str)\n",
    "    except:\n",
    "        return None\n",
    "\n",
    "df_bordeaux[\"lat\"] = df_bordeaux[\"lat\"].apply(convert_coord)\n",
    "df_bordeaux[\"long\"] = df_bordeaux[\"long\"].apply(convert_coord)\n",
    "\n",
    "# Supprimer points sans coordonnée valide\n",
    "df_bordeaux = df_bordeaux.dropna(subset=[\"lat\", \"long\"])\n",
    "\n",
    "print(f\"Après nettoyage, {len(df_bordeaux)} accidents avec coordonnées valides.\")\n"
   ]
  },
  {
   "cell_type": "code",
   "execution_count": 2,
   "id": "eb001f55",
   "metadata": {},
   "outputs": [
    {
     "ename": "NameError",
     "evalue": "name 'folium' is not defined",
     "output_type": "error",
     "traceback": [
      "\u001b[31m---------------------------------------------------------------------------\u001b[39m",
      "\u001b[31mNameError\u001b[39m                                 Traceback (most recent call last)",
      "\u001b[36mCell\u001b[39m\u001b[36m \u001b[39m\u001b[32mIn[2]\u001b[39m\u001b[32m, line 3\u001b[39m\n\u001b[32m      1\u001b[39m \u001b[38;5;66;03m# Cellule 4 : Création carte interactive Folium\u001b[39;00m\n\u001b[32m----> \u001b[39m\u001b[32m3\u001b[39m map_bdx = \u001b[43mfolium\u001b[49m.Map(location=[\u001b[32m44.8378\u001b[39m, -\u001b[32m0.5792\u001b[39m], zoom_start=\u001b[32m12\u001b[39m)\n\u001b[32m      5\u001b[39m \u001b[38;5;28;01mfor\u001b[39;00m an \u001b[38;5;129;01min\u001b[39;00m \u001b[38;5;28msorted\u001b[39m(df_bordeaux[\u001b[33m\"\u001b[39m\u001b[33mannee\u001b[39m\u001b[33m\"\u001b[39m].unique()):\n\u001b[32m      6\u001b[39m     subset = df_bordeaux[df_bordeaux[\u001b[33m\"\u001b[39m\u001b[33mannee\u001b[39m\u001b[33m\"\u001b[39m] == an]\n",
      "\u001b[31mNameError\u001b[39m: name 'folium' is not defined"
     ]
    }
   ],
   "source": [
    "# Cellule 4 : Création carte interactive Folium\n",
    "\n",
    "map_bdx = folium.Map(location=[44.8378, -0.5792], zoom_start=12)\n",
    "\n",
    "for an in sorted(df_bordeaux[\"annee\"].unique()):\n",
    "    subset = df_bordeaux[df_bordeaux[\"annee\"] == an]\n",
    "    color = colors.get(an, \"gray\")\n",
    "    for _, row in subset.iterrows():\n",
    "        popup_txt = f\"Année : {row['annee']}<br>Adresse : {row.get('adr', 'N/A')}<br>Heure : {str(row.get('hrmn', 'N/A')).zfill(4)}\"\n",
    "        folium.CircleMarker(\n",
    "            location=[row[\"lat\"], row[\"long\"]],\n",
    "            radius=3,\n",
    "            color=color,\n",
    "            fill=True,\n",
    "            fill_opacity=0.6,\n",
    "            popup=folium.Popup(popup_txt, max_width=300)\n",
    "        ).add_to(map_bdx)\n",
    "\n",
    "# Sauvegarde\n",
    "map_bdx.save(\"carte_accidents_bordeaux.html\")\n",
    "\n",
    "# Affichage dans Jupyter\n",
    "display(map_bdx)\n",
    "\n",
    "df.shape"
   ]
  }
 ],
 "metadata": {
  "kernelspec": {
   "display_name": "Python 3",
   "language": "python",
   "name": "python3"
  },
  "language_info": {
   "codemirror_mode": {
    "name": "ipython",
    "version": 3
   },
   "file_extension": ".py",
   "mimetype": "text/x-python",
   "name": "python",
   "nbconvert_exporter": "python",
   "pygments_lexer": "ipython3",
   "version": "3.13.5"
  }
 },
 "nbformat": 4,
 "nbformat_minor": 5
}
